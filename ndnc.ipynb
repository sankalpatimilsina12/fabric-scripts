{
 "cells": [
  {
   "cell_type": "markdown",
   "id": "ac69f3a2-d892-44c8-bd69-c804a4405f5a",
   "metadata": {
    "tags": []
   },
   "source": [
    "# NDNc Consumer \n",
    "\n",
    "## Configure Fabric Environment"
   ]
  },
  {
   "cell_type": "code",
   "execution_count": 1,
   "id": "5e839557-c986-451e-9ef0-a2118fda8752",
   "metadata": {},
   "outputs": [],
   "source": [
    "import os\n",
    "\n",
    "os.environ['FABRIC_PROJECT_ID']='<project-id>'\n",
    "os.environ['FABRIC_BASTION_HOST'] = 'bastion-1.fabric-testbed.net'\n",
    "os.environ['FABRIC_BASTION_USERNAME']='<user-name>'\n",
    "os.environ['FABRIC_BASTION_KEY_LOCATION']=os.environ['HOME']+'/work/.ssh/fabric_bastion_key'\n",
    "os.environ['FABRIC_SLICE_PRIVATE_KEY_FILE']=os.environ['HOME']+'/.ssh/id_rsa'\n",
    "os.environ['FABRIC_SLICE_PUBLIC_KEY_FILE']=os.environ['HOME']+'/.ssh/id_rsa.pub'"
   ]
  },
  {
   "cell_type": "markdown",
   "id": "272db8c3-4539-460f-b0b1-b2b217879ae3",
   "metadata": {},
   "source": [
    "### Import FABRIC API"
   ]
  },
  {
   "cell_type": "code",
   "execution_count": 2,
   "id": "c679db21-9267-4566-8660-e48ab31b0c1f",
   "metadata": {},
   "outputs": [],
   "source": [
    "import json\n",
    "import traceback\n",
    "\n",
    "from fabrictestbed_extensions.fablib.fablib import fablib"
   ]
  },
  {
   "cell_type": "markdown",
   "id": "6b7f116b-ea26-4642-a91d-866eb94c53e5",
   "metadata": {
    "tags": []
   },
   "source": [
    "## Configure Slice Parameters\n",
    "\n"
   ]
  },
  {
   "cell_type": "code",
   "execution_count": null,
   "id": "1b17d502-79e7-4d5d-9ac2-9fa7fe7788f0",
   "metadata": {},
   "outputs": [],
   "source": [
    "import time\n",
    "\n",
    "try:\n",
    "    sliceNum = int(time.time())\n",
    "    sliceName = 'ndnc'\n",
    "    # FABRIC site to allocate slice; it must have IPv4 to reach the router\n",
    "    SITE = 'TACC'\n",
    "    # remote router on /ndn network, written as IPv4 address (not hostname) and UDP port\n",
    "    ROUTER_IP, ROUTER_PORT = '128.196.203.36', 6363\n",
    "\n",
    "    slice = fablib.new_slice(name=sliceName)\n",
    "    nodeC = slice.add_node(name='C', site=SITE, cores=12,\n",
    "                           ram=32, disk=80, image='default_ubuntu_22')\n",
    "    nodeC.add_component(model='NIC_Basic', name='nic1')\n",
    "    slice.submit()\n",
    "    \n",
    "    slice = fablib.get_slice(name=sliceName)\n",
    "    nodeC = slice.get_node(name='C')\n",
    "    print(nodeC.get_ssh_command())\n",
    "    \n",
    "except Exception as e:\n",
    "    print(f\"Slice Fail: {e}\")"
   ]
  },
  {
   "cell_type": "markdown",
   "id": "9007e40e-9360-406a-adeb-9ebb9fae9a67",
   "metadata": {},
   "source": [
    "### Install Packages"
   ]
  },
  {
   "cell_type": "code",
   "execution_count": null,
   "id": "f1b33a8a-4763-4d1a-8f2a-9a5d73dd879f",
   "metadata": {},
   "outputs": [],
   "source": [
    "nodeC.execute(f'''\n",
    "    echo \"deb [arch=amd64 trusted=yes] https://nfd-nightly-apt.ndn.today/ubuntu jammy main\" | sudo tee /etc/apt/sources.list.d/nfd-nightly.list\n",
    "    sudo apt update\n",
    "    sudo DEBIAN_FRONTEND=noninteractive apt full-upgrade -y\n",
    "    sudo DEBIAN_FRONTEND=noninteractive apt install -y --no-install-recommends jq libibverbs-dev linux-image-generic ndnsec ndnpeek nfd apt-transport-https ca-certificates curl software-properties-common ndn-tools\n",
    "    \n",
    "    curl -fsSL https://download.docker.com/linux/ubuntu/gpg | sudo gpg --dearmor -o /usr/share/keyrings/docker-archive-keyring.gpg\n",
    "    echo \"deb [arch=amd64 signed-by=/usr/share/keyrings/docker-archive-keyring.gpg] https://download.docker.com/linux/ubuntu $(lsb_release -cs) stable\" | sudo tee /etc/apt/sources.list.d/docker.list\n",
    "    sudo apt update\n",
    "    sudo DEBIAN_FRONTEND=noninteractive apt install -y --no-install-recommends docker-ce\n",
    "    sudo loginctl enable-linger {nodeC.get_username()}\n",
    "    \n",
    "    sudo groupadd docker\n",
    "    sudo usermod -aG docker $USER\n",
    "    newgrp docker\n",
    "    \n",
    "    cat ./pw.txt | docker login --username sankalpatimilsina --password-stdin \n",
    "    \n",
    "    wget https://raw.githubusercontent.com/DPDK/dpdk/main/usertools/dpdk-hugepages.py\n",
    "    chmod +x dpdk-hugepages.py\n",
    "    sudo mv dpdk-hugepages.py /usr/bin/\n",
    "    \n",
    "    sudo reboot\n",
    "''')\n",
    "slice.wait_ssh(progress=True)\n",
    "\n",
    "nodeC.execute('''\n",
    "    docker pull sankalpatimilsina/ndnc:nov-11\n",
    "    docker pull sankalpatimilsina/ndn-dpdk-apr-27\n",
    "    docker tag sankalpatimilsina/ndn-dpdk-apr-27 ndn-dpdk\n",
    "''')"
   ]
  },
  {
   "cell_type": "markdown",
   "id": "cd66fb17-0e01-4ad5-af56-dc854338e507",
   "metadata": {},
   "source": [
    "### Set NDN-DPDK Forwarder args"
   ]
  },
  {
   "cell_type": "code",
   "execution_count": 5,
   "id": "b8f94ea9-6fb8-4a9d-8de3-d033ff3427c6",
   "metadata": {},
   "outputs": [],
   "source": [
    "import shlex\n",
    "\n",
    "UCLA_ROUTER_IP = '131.179.196.48'\n",
    "UCLA_ROUTER_PORT = 6363\n",
    "\n",
    "FW_ACTIVATE = {\n",
    "    'mempool': {\n",
    "        'DIRECT': {'capacity': 2**20-1, 'dataroom': 9200},\n",
    "        'INDIRECT': {'capacity': 2**21-1},\n",
    "    },\n",
    "}\n",
    "FW_UDP = {\n",
    "    'scheme': 'udp',\n",
    "    'remote': f'{UCLA_ROUTER_IP}:{UCLA_ROUTER_PORT}',\n",
    "    'mtu': 1420,\n",
    "}"
   ]
  },
  {
   "cell_type": "markdown",
   "id": "96129063-91d9-46c5-8a8d-53c28b63e40d",
   "metadata": {},
   "source": [
    "### Run NDN-DPDK Forwarder and NDNc"
   ]
  },
  {
   "cell_type": "code",
   "execution_count": null,
   "id": "dc24acad-e1bb-4c99-8602-b7dfc2a0be2e",
   "metadata": {},
   "outputs": [],
   "source": [
    "import shlex\n",
    "\n",
    "stdout, stderr = nodeC.execute(f'''\n",
    "    sudo dpdk-hugepages.py --clear\n",
    "    sudo dpdk-hugepages.py --pagesize 1G --setup 30G\n",
    "    \n",
    "    echo \"Launching forwarder container....\"\n",
    "    sudo docker ps -q --filter \"name=fw\" | grep -q . && sudo docker stop fw\n",
    "    sudo docker ps -q -a --filter \"name=fw\" | grep -q . && sudo docker rm fw\n",
    "    \n",
    "    sudo docker run -d --name fw \\\n",
    "          --network host \\\n",
    "          --privileged \\\n",
    "          --mount type=bind,source=/dev/hugepages,target=/dev/hugepages \\\n",
    "          --mount type=volume,source=run-ndn,target=/run/ndn \\\n",
    "          ndn-dpdk\n",
    "\n",
    "    sleep 5\n",
    "    \n",
    "    echo \"Activating forwarder....\"\n",
    "    echo {shlex.quote(json.dumps(FW_ACTIVATE))} | sudo docker run -i --rm \\\n",
    "    --privileged \\\n",
    "    --network host \\\n",
    "    --mount type=bind,source=/dev/hugepages,target=/dev/hugepages \\\n",
    "    --mount type=volume,source=run-ndn,target=/run/ndn \\\n",
    "    ndn-dpdk ndndpdk-ctrl activate-forwarder\n",
    "    \n",
    "    echo \"Creating face to next ndn-dpdk forwarder....\"\n",
    "    FW_UDP_FACE=$(echo {shlex.quote(json.dumps(FW_UDP))} | sudo docker run -i --rm \\\n",
    "    --privileged --network host \\\n",
    "    ndn-dpdk \\\n",
    "    ndndpdk-ctrl create-face)\n",
    "    echo $FW_UDP_FACE\n",
    "    \n",
    "    echo \"Inserting FIB entry for /fileserver to nexthop....\"\n",
    "    sudo docker run --privileged --network host \\\n",
    "    -i --rm ndn-dpdk \\\n",
    "    ndndpdk-ctrl insert-fib --name / --nexthop $(echo $FW_UDP_FACE | jq -r .id)\n",
    "        \n",
    "    #$CTRL_FW list-faces\n",
    "    #$CTRL_FW list-fib\n",
    "    \n",
    "    sudo docker ps -q --filter \"name=ndnc\" | grep -q . && sudo docker stop ndnc\n",
    "    sudo docker ps -q -a --filter \"name=ndnc\" | grep -q . && sudo docker rm ndnc\n",
    "    sudo docker run -d --name ndnc --network host \\\n",
    "    --privileged \\\n",
    "    --mount type=bind,source=/dev/hugepages,target=/dev/hugepages \\\n",
    "    --mount type=volume,source=run-ndn,target=/run/ndn \\\n",
    "    sankalpatimilsina/ndnc:nov-11 tail -f /dev/null \n",
    "    ''')\n",
    "print(f'{stdout}\\n{stderr}')"
   ]
  },
  {
   "cell_type": "markdown",
   "id": "0947928d-f7df-4743-9e8a-da92a75ccfe2",
   "metadata": {
    "tags": []
   },
   "source": [
    "## Delete Slice"
   ]
  },
  {
   "cell_type": "code",
   "execution_count": 14,
   "id": "b7e9f2b9-40ba-4868-a88d-e1e3f8a0a5aa",
   "metadata": {},
   "outputs": [],
   "source": [
    "try:\n",
    "    slice = fablib.get_slice(name=sliceName)\n",
    "    slice.delete()\n",
    "except Exception as e:\n",
    "    print(f\"Fail: {e}\")"
   ]
  }
 ],
 "metadata": {
  "kernelspec": {
   "display_name": "Python 3",
   "language": "python",
   "name": "python3"
  },
  "language_info": {
   "codemirror_mode": {
    "name": "ipython",
    "version": 3
   },
   "file_extension": ".py",
   "mimetype": "text/x-python",
   "name": "python",
   "nbconvert_exporter": "python",
   "pygments_lexer": "ipython3",
   "version": "3.10.9"
  },
  "vscode": {
   "interpreter": {
    "hash": "b0fa6594d8f4cbf19f97940f81e996739fb7646882a419484c72d19e05852a7e"
   }
  }
 },
 "nbformat": 4,
 "nbformat_minor": 5
}
