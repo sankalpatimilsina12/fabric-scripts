{
 "cells": [
  {
   "cell_type": "markdown",
   "id": "ac69f3a2-d892-44c8-bd69-c804a4405f5a",
   "metadata": {
    "tags": []
   },
   "source": [
    "# NDN-DPDK Fileserver \n",
    "\n",
    "## Configure Fabric Environment"
   ]
  },
  {
   "cell_type": "code",
   "execution_count": 4,
   "id": "5e839557-c986-451e-9ef0-a2118fda8752",
   "metadata": {},
   "outputs": [],
   "source": [
    "import os\n",
    "\n",
    "os.environ['FABRIC_PROJECT_ID']='d767bb56-903c-44e3-84a9-9aaa39acff98'\n",
    "os.environ['FABRIC_BASTION_HOST'] = 'bastion-1.fabric-testbed.net'\n",
    "os.environ['FABRIC_BASTION_USERNAME']='sankalpatimilsina12_0049769586'\n",
    "os.environ['FABRIC_BASTION_KEY_LOCATION']=os.environ['HOME']+'/work/.ssh/fabric_bastion_key'\n",
    "os.environ['FABRIC_SLICE_PRIVATE_KEY_FILE']=os.environ['HOME']+'/.ssh/id_rsa'\n",
    "os.environ['FABRIC_SLICE_PUBLIC_KEY_FILE']=os.environ['HOME']+'/.ssh/id_rsa.pub'"
   ]
  },
  {
   "cell_type": "markdown",
   "id": "272db8c3-4539-460f-b0b1-b2b217879ae3",
   "metadata": {},
   "source": [
    "### Import FABRIC API"
   ]
  },
  {
   "cell_type": "code",
   "execution_count": 6,
   "id": "c679db21-9267-4566-8660-e48ab31b0c1f",
   "metadata": {},
   "outputs": [],
   "source": [
    "import json\n",
    "import time\n",
    "\n",
    "from fabrictestbed_extensions.fablib.fablib import fablib"
   ]
  },
  {
   "cell_type": "markdown",
   "id": "6b7f116b-ea26-4642-a91d-866eb94c53e5",
   "metadata": {
    "tags": []
   },
   "source": [
    "## Configure Slice Parameters\n",
    "\n"
   ]
  },
  {
   "cell_type": "code",
   "execution_count": null,
   "id": "1b17d502-79e7-4d5d-9ac2-9fa7fe7788f0",
   "metadata": {},
   "outputs": [],
   "source": [
    "try:\n",
    "    #sliceName = 'fileserver'\n",
    "    sliceNum = int(time.time())\n",
    "    sliceName = f'fileserver@{sliceNum}'\n",
    "    print(sliceName)\n",
    "    \n",
    "    # FABRIC site to allocate slice; it must have IPv4 to reach the router\n",
    "    SITE = 'MASS'\n",
    "    # remote router on /ndn network, written as IPv4 address (not hostname) and UDP port\n",
    "    ROUTER_IP, ROUTER_PORT = '128.196.203.36', 6363\n",
    "    # URI for NDNts-CA profile packet, base64-encoded; the CA must accept \"nop\" challenge\n",
    "    CA_PROFILE_B64_URI = 'https://gist.githubusercontent.com/yoursunny/54db5b27f9193859b7d1c83f0aeb8d6d/raw/ca-profile.data.base64'\n",
    "    # NDN names for intermediate certificates\n",
    "    CA_INTERMEDIATE_NAMES = [\n",
    "        '/ndn/nl/delft/%40GUEST/honecod163%40nifect.com/KEY/56=%00%05%DF%ED%DA%23%AA%98/NA/54=%00%00%01%81%01%81%F0%A2',\n",
    "        '/ndn/nl/delft/KEY/%E9%EB%8E%9F%F7%A4%BF%3F/NA/54=%00%00%01%80%29%F7%A1%9D',\n",
    "    ]\n",
    "    # NDN name prefix for the file server\n",
    "    FS_PREFIX = f'/fileserver.{sliceNum}'\n",
    "    # filesystem path for the file server\n",
    "    FS_PATH = '/srv/fileserver'\n",
    "    # segment length served by the file server\n",
    "    FS_SEGMENTLEN = 6*1024\n",
    "\n",
    "    slice = fablib.new_slice(name=sliceName)\n",
    "    nodeP = slice.add_node(name='P', site=SITE, cores=12,\n",
    "                           ram=32, disk=80, image='default_ubuntu_22')\n",
    "    diskP = nodeP.add_component(model='NVME_P4510', name='disk')\n",
    "    nodeP.add_component(model='NIC_Basic', name='nic1')\n",
    "    slice.submit()\n",
    "    \n",
    "    slice = fablib.get_slice(name=sliceName)\n",
    "    nodeP = slice.get_node(name='P')\n",
    "    diskP = nodeP.get_component('disk')\n",
    "    print(nodeP.get_ssh_command())\n",
    "    \n",
    "except Exception as e:\n",
    "    print(f\"Slice Fail: {e}\")"
   ]
  },
  {
   "cell_type": "markdown",
   "id": "9007e40e-9360-406a-adeb-9ebb9fae9a67",
   "metadata": {},
   "source": [
    "### Install Packages"
   ]
  },
  {
   "cell_type": "code",
   "execution_count": null,
   "id": "f1b33a8a-4763-4d1a-8f2a-9a5d73dd879f",
   "metadata": {},
   "outputs": [],
   "source": [
    "nodeP.execute(f'''\n",
    "    echo \"deb [arch=amd64 trusted=yes] https://nfd-nightly-apt.ndn.today/ubuntu jammy main\" | sudo tee /etc/apt/sources.list.d/nfd-nightly.list\n",
    "    sudo apt update\n",
    "    sudo DEBIAN_FRONTEND=noninteractive apt full-upgrade -y\n",
    "    sudo DEBIAN_FRONTEND=noninteractive apt install -y --no-install-recommends jq libibverbs-dev linux-image-generic ndnsec ndnpeek nfd ndn-tools\n",
    "    sudo loginctl enable-linger {nodeP.get_username()}\n",
    "    sudo reboot\n",
    "''')\n",
    "slice.wait_ssh(progress=True)\n",
    "diskP.configure_nvme(mount_point=FS_PATH)\n",
    "\n",
    "nodeP.execute('''\n",
    "    git clone https://github.com/yoursunny/ndn-dpdk.git\n",
    "    cd ndn-dpdk\n",
    "    docs/ndndpdk-depends.sh -y\n",
    "\n",
    "    corepack pnpm install\n",
    "    make\n",
    "    sudo make install\n",
    "''')"
   ]
  },
  {
   "cell_type": "markdown",
   "id": "44f5be61-45bc-4169-b9f7-363d5c0145b0",
   "metadata": {},
   "source": [
    "### Run NFD and obtain testbed certificate"
   ]
  },
  {
   "cell_type": "code",
   "execution_count": null,
   "id": "27c89ba0-ffd2-47f5-b04c-bd7da1782311",
   "metadata": {},
   "outputs": [],
   "source": [
    "import shlex\n",
    "\n",
    "peekCmds = '\\n'.join(\n",
    "    [f'ndnpeek {name} | base64 > ~/keychain/i{i}.ndncert' for i, name in enumerate(CA_INTERMEDIATE_NAMES)])\n",
    "\n",
    "stdout, stderr = nodeP.execute(f'''\n",
    "    sudo systemctl enable --now nfd\n",
    "    nfdc face create udp4://{ROUTER_IP}:{ROUTER_PORT}\n",
    "    nfdc route add / udp4://{ROUTER_IP}:{ROUTER_PORT}\n",
    "    mkdir -p ~/keychain\n",
    "    {peekCmds}\n",
    "\n",
    "    sudo npm i -g https://ndnts-nightly.ndn.today/keychain-cli.tgz\n",
    "    export NDNTS_UPLINK=unix:///run/nfd.sock\n",
    "\n",
    "    curl -fsLS {shlex.quote(CA_PROFILE_B64_URI)} | base64 -d > ~/keychain/ca-profile.data\n",
    "    CAPREFIX=$(ndnts-keychain ndncert03-show-profile --profile ~/keychain/ca-profile.data | sed -n '/^CA prefix:/ s/^[^:]*: // p')\n",
    "    ndnsec key-gen $CAPREFIX/$(hostname -s) >/dev/null\n",
    "    KEYNAME=$(ndnsec get-default -k)\n",
    "    ndnts-keychain ndncert03-client --profile ~/keychain/ca-profile.data --ndnsec --key $KEYNAME --challenge nop\n",
    "    ndnsec export -o ~/keychain/pvt.safebag -P 0 -k $KEYNAME\n",
    "\n",
    "    sudo systemctl disable --now nfd\n",
    "    \n",
    "    to_file() {{\n",
    "        sudo mkdir -p \"$(dirname $1)\"\n",
    "        sudo tee \"$1\"\n",
    "    }}\n",
    "    echo -e '[Manager]\\nCPUAffinity=0-1' | to_file /etc/systemd/system.conf.d/cpuset.conf\n",
    "    echo -e '[Service]\\nCPUAffinity=2-7' | to_file /etc/systemd/system/ndndpdk-svc@$(systemd-escape 127.0.0.1:3030).service.d/override.conf\n",
    "    echo -e '[Service]\\nCPUAffinity=8-11' | to_file /etc/systemd/system/ndndpdk-svc@$(systemd-escape 127.0.0.1:3031).service.d/override.conf\n",
    "    sudo reboot\n",
    "''')\n",
    "slice.wait_ssh(progress=True)\n"
   ]
  },
  {
   "cell_type": "markdown",
   "id": "cd66fb17-0e01-4ad5-af56-dc854338e507",
   "metadata": {},
   "source": [
    "### Set NDN-DPDK Forwarder args and NFD registration command"
   ]
  },
  {
   "cell_type": "code",
   "execution_count": 12,
   "id": "b8f94ea9-6fb8-4a9d-8de3-d033ff3427c6",
   "metadata": {},
   "outputs": [],
   "source": [
    "FS_PREFIX = f'/fileserver.{sliceNum}'\n",
    "\n",
    "FW_ACTIVATE = {\n",
    "    'eal': {\n",
    "        'memPerNuma': {'0': 12*1024},\n",
    "        'filePrefix': 'fw',\n",
    "        'disablePCI': True,\n",
    "    },\n",
    "    'mempool': {\n",
    "        'DIRECT': {'capacity': 2**20-1, 'dataroom': 9200},\n",
    "        'INDIRECT': {'capacity': 2**21-1},\n",
    "    },\n",
    "}\n",
    "FW_UDP = {\n",
    "    'scheme': 'udp',\n",
    "    'remote': f'{ROUTER_IP}:{ROUTER_PORT}',\n",
    "    'mtu': 1420,\n",
    "}\n",
    "MEMIF_SOCKET, MEMIF_ID = '/run/ndn/fileserver.sock', 1\n",
    "FW_MEMIF = {\n",
    "    'scheme': 'memif',\n",
    "    'socketName': MEMIF_SOCKET,\n",
    "    'id': MEMIF_ID,\n",
    "    'role': 'server',\n",
    "}\n",
    "FS_ACTIVATE = {\n",
    "    'eal': {\n",
    "        'memPerNuma': {'0': 6*1024},\n",
    "        'filePrefix': 'fs',\n",
    "        'disablePCI': True,\n",
    "    },\n",
    "    'mempool': {\n",
    "        'DIRECT': {'capacity': 2**16-1, 'dataroom': 9200},\n",
    "        'INDIRECT': {'capacity': 2**16-1},\n",
    "        'PAYLOAD': {'capacity': 2**16-1, 'dataroom': 9200},\n",
    "    },\n",
    "    'face': {\n",
    "        'scheme': 'memif',\n",
    "        'socketName': MEMIF_SOCKET,\n",
    "        'id': MEMIF_ID,\n",
    "        'role': 'client',\n",
    "    },\n",
    "    'fileServer': {\n",
    "        'mounts': [\n",
    "            {'prefix': FS_PREFIX, 'path': FS_PATH}\n",
    "        ],\n",
    "        'segmentLen': FS_SEGMENTLEN,\n",
    "    },\n",
    "}\n",
    "\n",
    "nfdregCmd = 'ndndpdk-godemo --gqlserver http://127.0.0.1:3030/ nfdreg'\n",
    "nfdregCmd += ' --signer ~/keychain/pvt.safebag --signer-pass 0 '\n",
    "nfdregCmd += ' '.join([f'--serve-cert ~/keychain/i{i}.ndncert' for i,\n",
    "                      name in enumerate(CA_INTERMEDIATE_NAMES)])\n",
    "nfdregCmd += f' --origin 65 --register {shlex.quote(FS_PREFIX)} --repeat 20s'"
   ]
  },
  {
   "cell_type": "markdown",
   "id": "96129063-91d9-46c5-8a8d-53c28b63e40d",
   "metadata": {},
   "source": [
    "### Run NDN-DPDK Forwarder, Fileserver and Periodically send prefix registration command to remote NFD"
   ]
  },
  {
   "cell_type": "code",
   "execution_count": null,
   "id": "dc24acad-e1bb-4c99-8602-b7dfc2a0be2e",
   "metadata": {},
   "outputs": [],
   "source": [
    "stdout, stderr = nodeP.execute(f'''\n",
    "    sudo mkdir -p {shlex.quote(FS_PATH)}\n",
    "    sudo mount /dev/nvme0n1p1 {shlex.quote(FS_PATH)}\n",
    "    sudo chown {nodeP.get_username()} {shlex.quote(FS_PATH)}\n",
    "    truncate -s 1G {shlex.quote(f'{FS_PATH}/1G.bin')}\n",
    "    truncate -s 1M {shlex.quote(f'{FS_PATH}/1M.bin')}\n",
    "\n",
    "    CTRL_FW='ndndpdk-ctrl --gqlserver http://127.0.0.1:3030/'\n",
    "    CTRL_FS='ndndpdk-ctrl --gqlserver http://127.0.0.1:3031/'\n",
    "    systemctl --user stop nfdreg || true\n",
    "    sudo $CTRL_FW systemd stop || true\n",
    "    sudo $CTRL_FS systemd stop || true\n",
    "\n",
    "    sudo dpdk-hugepages.py --clear\n",
    "    sudo dpdk-hugepages.py --pagesize 1G --setup 18G\n",
    "\n",
    "    sudo $CTRL_FW systemd start\n",
    "    echo {shlex.quote(json.dumps(FW_ACTIVATE))} | $CTRL_FW activate-forwarder\n",
    "\n",
    "    FW_UDP_FACE=$(echo {shlex.quote(json.dumps(FW_UDP))} | $CTRL_FW create-face)\n",
    "    echo $FW_UDP_FACE\n",
    "    $CTRL_FW insert-fib --name /localhop/nfd --nh $(echo $FW_UDP_FACE | jq -r .id)\n",
    "    \n",
    "    systemd-run --user --collect --unit=nfdreg -- {nfdregCmd}\n",
    "\n",
    "    FW_MEMIF_FACE=$(echo {shlex.quote(json.dumps(FW_MEMIF))} | $CTRL_FW create-face)\n",
    "    echo $FW_MEMIF_FACE\n",
    "    $CTRL_FW insert-fib --name {shlex.quote(FS_PREFIX)} --nh $(echo $FW_MEMIF_FACE | jq -r .id)\n",
    "\n",
    "    sudo $CTRL_FS systemd start\n",
    "    echo {shlex.quote(json.dumps(FS_ACTIVATE))} | $CTRL_FS activate-fileserver\n",
    "    \n",
    "    $CTRL_FW list-faces\n",
    "    $CTRL_FW list-fib\n",
    "''')\n",
    "print(f'{stdout}\\n{stderr}')"
   ]
  },
  {
   "cell_type": "markdown",
   "id": "0947928d-f7df-4743-9e8a-da92a75ccfe2",
   "metadata": {
    "tags": []
   },
   "source": [
    "## Delete Slice"
   ]
  },
  {
   "cell_type": "code",
   "execution_count": null,
   "id": "b7e9f2b9-40ba-4868-a88d-e1e3f8a0a5aa",
   "metadata": {},
   "outputs": [],
   "source": [
    "try:\n",
    "    slice = fablib.get_slice(name=sliceName)\n",
    "    slice.delete()\n",
    "except Exception as e:\n",
    "    print(f\"Fail: {e}\")"
   ]
  }
 ],
 "metadata": {
  "kernelspec": {
   "display_name": "Python 3 (ipykernel)",
   "language": "python",
   "name": "python3"
  },
  "language_info": {
   "codemirror_mode": {
    "name": "ipython",
    "version": 3
   },
   "file_extension": ".py",
   "mimetype": "text/x-python",
   "name": "python",
   "nbconvert_exporter": "python",
   "pygments_lexer": "ipython3",
   "version": "3.9.7"
  }
 },
 "nbformat": 4,
 "nbformat_minor": 5
}
